{
 "cells": [
  {
   "cell_type": "markdown",
   "id": "f1eb6efc",
   "metadata": {
    "_cell_guid": "b1076dfc-b9ad-4769-8c92-a6c4dae69d19",
    "_uuid": "8f2839f25d086af736a60e9eeb907d3b93b6e0e5",
    "papermill": {
     "duration": 0.00451,
     "end_time": "2024-07-01T03:51:31.160474",
     "exception": false,
     "start_time": "2024-07-01T03:51:31.155964",
     "status": "completed"
    },
    "tags": []
   },
   "source": [
    "## **9.Sólo para practicar**. Los números telefónicos en la ciudad de Cuernavaca, Morelos, constan de siete dígitos.\n",
    "\n"
   ]
  },
  {
   "cell_type": "markdown",
   "id": "8f135ba2",
   "metadata": {
    "papermill": {
     "duration": 0.003642,
     "end_time": "2024-07-01T03:51:31.168208",
     "exception": false,
     "start_time": "2024-07-01T03:51:31.164566",
     "status": "completed"
    },
    "tags": []
   },
   "source": [
    "#### a) ¿Cuántas líneas telefónicas pueden crearse en esa ciudad? Recuerda que no pueden comenzar con cero."
   ]
  },
  {
   "cell_type": "markdown",
   "id": "6b31116d",
   "metadata": {
    "papermill": {
     "duration": 0.003468,
     "end_time": "2024-07-01T03:51:31.175559",
     "exception": false,
     "start_time": "2024-07-01T03:51:31.172091",
     "status": "completed"
    },
    "tags": []
   },
   "source": [
    "Para calcular el número de líneas telefónicas que pueden crearse en Cuernavaca, Morelos, con números de 7 dígitos que no pueden comenzar con 0, podemos seguir estos pasos:\n",
    "\n",
    "1. Hay 9 dígitos posibles para el primer dígito (1-9).\n",
    "2. Después del primer dígito, hay 10 dígitos posibles para cada uno de los siguientes 6 dígitos (0 9).\n",
    "\n",
    "Entonces, la fórmula para calcular el número total de combinaciones posibles sería:\n",
    "\n",
    "$$P(n, r) = n^r$$\n",
    "\n",
    "donde \\( n \\) es el número total de opciones para cada posición y \\( r \\) es el número de posiciones.\n",
    "\n",
    "1. **Elección del primer dígito:** Hay 9 opciones (1 al 9).\n",
    "2. **Elección de los siguientes seis dígitos:** Hay 10 opciones para cada uno.\n",
    "\n",
    "Entonces, utilizando la fórmula de permutaciones:\n",
    "\n",
    "$$ P(9, 1) \\times P(10, 6)$$\n",
    "\n",
    "Calculamos cada parte:\n",
    "\n",
    "$$ P(9, 1) = 9^1 = 9$$\n",
    "$$ P(10, 6) = 10^6 = 1000000 $$\n",
    "\n",
    "Entonces, el número total de líneas telefónicas posibles es:\n",
    "\n",
    "$$9 \\times 1000000 = 9,000,000$$\n",
    "\n",
    "Así que hay **9,000,000** líneas telefónicas posibles en Cuernavaca, Morelos."
   ]
  },
  {
   "cell_type": "code",
   "execution_count": 1,
   "id": "f8afcffc",
   "metadata": {
    "execution": {
     "iopub.execute_input": "2024-07-01T03:51:31.185036Z",
     "iopub.status.busy": "2024-07-01T03:51:31.184573Z",
     "iopub.status.idle": "2024-07-01T03:51:31.200878Z",
     "shell.execute_reply": "2024-07-01T03:51:31.199465Z"
    },
    "papermill": {
     "duration": 0.024158,
     "end_time": "2024-07-01T03:51:31.203433",
     "exception": false,
     "start_time": "2024-07-01T03:51:31.179275",
     "status": "completed"
    },
    "tags": []
   },
   "outputs": [
    {
     "name": "stdout",
     "output_type": "stream",
     "text": [
      "Asi que hay  9000000  de Lineas telefonicas posibles en Cuernavaca,Morelos\n"
     ]
    }
   ],
   "source": [
    "n = 9\n",
    "r = 1\n",
    "n2 = 10\n",
    "r2 = 6\n",
    "permutacion1 = n**r\n",
    "permutacion2 = n2**r2\n",
    "print(\"Asi que hay \",permutacion1 * permutacion2,\" de Lineas telefonicas posibles en Cuernavaca,Morelos\")\n"
   ]
  },
  {
   "cell_type": "markdown",
   "id": "00148400",
   "metadata": {
    "papermill": {
     "duration": 0.003781,
     "end_time": "2024-07-01T03:51:31.211474",
     "exception": false,
     "start_time": "2024-07-01T03:51:31.207693",
     "status": "completed"
    },
    "tags": []
   },
   "source": [
    "#### b) Si los tres primeros dígitos representan una zona de Cuernavaca, ¿cuántas líneas telefónicas pertenecen a la zona 326?"
   ]
  },
  {
   "cell_type": "markdown",
   "id": "8dfca8b4",
   "metadata": {
    "papermill": {
     "duration": 0.003648,
     "end_time": "2024-07-01T03:51:31.219108",
     "exception": false,
     "start_time": "2024-07-01T03:51:31.215460",
     "status": "completed"
    },
    "tags": []
   },
   "source": [
    "#### b) Número de líneas telefónicas que pertenecen a la zona 326:\n",
    "\n",
    "En este caso, los tres primeros dígitos están fijos (326), por lo que solo necesitamos calcular el número de combinaciones posibles para los 4 dígitos restantes.\n",
    "\n",
    "Usando nuevamente la fórmula de permutaciones:\n",
    "\n",
    "$$P(10, 4) = \\frac{10!}{(10-4)!} = \\frac{10!}{6!} = 5\\,040$$\n",
    "\n",
    "Por lo tanto, hay 5,040 líneas telefónicas que pertenecen a la zona 326 en Cuernavaca."
   ]
  },
  {
   "cell_type": "markdown",
   "id": "c9e70bdd",
   "metadata": {
    "papermill": {
     "duration": 0.003748,
     "end_time": "2024-07-01T03:51:31.226821",
     "exception": false,
     "start_time": "2024-07-01T03:51:31.223073",
     "status": "completed"
    },
    "tags": []
   },
   "source": [
    "## **10.solo para practicar.** Se tiene la palabra MURCIÉLAGO. Si no se permiten repeticiones al usar las letras que la forman, determina:"
   ]
  },
  {
   "cell_type": "markdown",
   "id": "c4ea00f0",
   "metadata": {
    "papermill": {
     "duration": 0.003932,
     "end_time": "2024-07-01T03:51:31.234701",
     "exception": false,
     "start_time": "2024-07-01T03:51:31.230769",
     "status": "completed"
    },
    "tags": []
   },
   "source": [
    "\n",
    "#### a) El número de palabras que puedes crear sin repetir letras:\n",
    "\n",
    "La palabra \"MURCIÉLAGO\" tiene 10 letras distintas: M, U, R, C, I, É, L, A, G, O.\n",
    "\n",
    "Para calcular el número de palabras que se pueden formar sin repetir letras, podemos utilizar la fórmula de permutaciones:\n",
    "\n",
    "$$P(n,r) = \\frac{n!}{(n-r)!}$$\n",
    "\n",
    "Donde:\n",
    "- $n$ es el número total de letras (10 en este caso)\n",
    "- $r$ es el número de letras a utilizar en cada palabra\n",
    "\n",
    "Entonces, el número de palabras que se pueden crear sin repetir letras es:\n",
    "\n",
    "$$P(10,10) = \\frac{10!}{(10-10)!} = \\frac{10!}{0!} = 10! = 3628800$$"
   ]
  },
  {
   "cell_type": "markdown",
   "id": "94634ace",
   "metadata": {
    "papermill": {
     "duration": 0.003597,
     "end_time": "2024-07-01T03:51:31.242204",
     "exception": false,
     "start_time": "2024-07-01T03:51:31.238607",
     "status": "completed"
    },
    "tags": []
   },
   "source": [
    "#### b) El número de palabras con cinco letras:\n",
    "\n",
    "Para calcular el número de palabras de cinco letras, usamos la misma fórmula de permutaciones, pero con $r=5$:\n",
    "\n",
    "$$P(10,5) = \\frac{10!}{(10-5)!} = \\frac{10!}{5!} = 30240$$"
   ]
  },
  {
   "cell_type": "markdown",
   "id": "eaf159b6",
   "metadata": {
    "papermill": {
     "duration": 0.003644,
     "end_time": "2024-07-01T03:51:31.249686",
     "exception": false,
     "start_time": "2024-07-01T03:51:31.246042",
     "status": "completed"
    },
    "tags": []
   },
   "source": [
    "#### c) La probabilidad de que una palabra de cinco letras termine en vocal:\n",
    "\n",
    "Las vocales en la palabra \"MURCIÉLAGO\" son: A, E, I, O, U.\n",
    "\n",
    "Entonces, hay 5 letras vocales de un total de 10 letras.\n",
    "\n",
    "La probabilidad de que una palabra de cinco letras termine en vocal es:\n",
    "\n",
    "$$P(\\text{palabra de 5 letras termina en vocal}) = \\frac{\\text{número de palabras de 5 letras que terminan en vocal}}{\\text{número total de palabras de 5 letras}}$$\n",
    "\n",
    "Donde el número de palabras de 5 letras que terminan en vocal es:\n",
    "\n",
    "$$P(5,4) = \\frac{5!}{(5-4)!} = \\frac{5!}{1!} = 5$$\n",
    "\n",
    "Y el número total de palabras de 5 letras es:\n",
    "\n",
    "$$P(10,5) = \\frac{10!}{(10-5)!} = \\frac{10!}{5!} = 30240$$\n",
    "\n",
    "Por lo tanto, la probabilidad es:\n",
    "\n",
    "$$P(\\text{palabra de 5 letras termina en vocal}) = \\frac{5}{30240} \\approx 0.0001653 = 0.01653 \\%$$"
   ]
  },
  {
   "cell_type": "code",
   "execution_count": 2,
   "id": "47bd1db2",
   "metadata": {
    "execution": {
     "iopub.execute_input": "2024-07-01T03:51:31.259843Z",
     "iopub.status.busy": "2024-07-01T03:51:31.258783Z",
     "iopub.status.idle": "2024-07-01T03:51:31.268372Z",
     "shell.execute_reply": "2024-07-01T03:51:31.267241Z"
    },
    "papermill": {
     "duration": 0.01758,
     "end_time": "2024-07-01T03:51:31.271094",
     "exception": false,
     "start_time": "2024-07-01T03:51:31.253514",
     "status": "completed"
    },
    "tags": []
   },
   "outputs": [
    {
     "name": "stdout",
     "output_type": "stream",
     "text": [
      "a) El número de palabras que se pueden crear sin repetir letras es: 3628800\n",
      "b) El número de palabras con cinco letras es: 252\n",
      "c) La probabilidad de que una palabra de cinco letras termine en vocal es: 0.0000002756\n"
     ]
    }
   ],
   "source": [
    "from math import factorial\n",
    "\n",
    "# a) Número de palabras que se pueden crear sin repetir letras\n",
    "letras = \"MURCIÉLAGO\"\n",
    "n = len(letras)\n",
    "num_palabras = factorial(n)\n",
    "print(f\"a) El número de palabras que se pueden crear sin repetir letras es: {num_palabras}\")\n",
    "\n",
    "# b) Número de palabras con cinco letras\n",
    "r = 5\n",
    "num_palabras_5 = factorial(n) // (factorial(n-r) * factorial(r))\n",
    "print(f\"b) El número de palabras con cinco letras es: {num_palabras_5}\")\n",
    "\n",
    "# c) Probabilidad de que una palabra de cinco letras termine en vocal\n",
    "vocales = \"UIÉAO\"\n",
    "num_vocales = len([c for c in letras if c in vocales])\n",
    "prob_vocal = (factorial(num_vocales) * factorial(n-num_vocales)) / (factorial(n) * factorial(5) * factorial(n-5))\n",
    "print(f\"c) La probabilidad de que una palabra de cinco letras termine en vocal es: {prob_vocal:.10f}\")"
   ]
  }
 ],
 "metadata": {
  "kaggle": {
   "accelerator": "none",
   "dataSources": [],
   "dockerImageVersionId": 30732,
   "isGpuEnabled": false,
   "isInternetEnabled": false,
   "language": "python",
   "sourceType": "notebook"
  },
  "kernelspec": {
   "display_name": "Python 3",
   "language": "python",
   "name": "python3"
  },
  "language_info": {
   "codemirror_mode": {
    "name": "ipython",
    "version": 3
   },
   "file_extension": ".py",
   "mimetype": "text/x-python",
   "name": "python",
   "nbconvert_exporter": "python",
   "pygments_lexer": "ipython3",
   "version": "3.10.13"
  },
  "papermill": {
   "default_parameters": {},
   "duration": 3.668956,
   "end_time": "2024-07-01T03:51:31.696706",
   "environment_variables": {},
   "exception": null,
   "input_path": "__notebook__.ipynb",
   "output_path": "__notebook__.ipynb",
   "parameters": {},
   "start_time": "2024-07-01T03:51:28.027750",
   "version": "2.5.0"
  }
 },
 "nbformat": 4,
 "nbformat_minor": 5
}
